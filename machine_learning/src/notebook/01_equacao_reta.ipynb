{
 "cells": [
  {
   "cell_type": "markdown",
   "id": "91de5ab2",
   "metadata": {},
   "source": [
    "# Equação da Reta\n",
    "\n",
    "\n",
    "<br>\n",
    "Formula Equação da Reta:\n",
    "\n",
    "$$\\Large y = x . m + b$$\n",
    "\n",
    "Onde:<br>\n",
    "m = taxa de variação da reta<br>\n",
    "b = ponto de intersecção da reta<br>\n"
   ]
  },
  {
   "cell_type": "markdown",
   "id": "b0786c44",
   "metadata": {},
   "source": [
    "## Imports"
   ]
  },
  {
   "cell_type": "code",
   "execution_count": 7,
   "id": "6158007b",
   "metadata": {},
   "outputs": [],
   "source": [
    "import numpy as np\n",
    "from matplotlib import pyplot as plt"
   ]
  },
  {
   "cell_type": "markdown",
   "id": "100a0cba",
   "metadata": {},
   "source": [
    "## Exemplo"
   ]
  },
  {
   "cell_type": "code",
   "execution_count": 8,
   "id": "592df447",
   "metadata": {},
   "outputs": [],
   "source": [
    "# cria um array de 0 até 99\n",
    "x = np.array( range(100) )\n",
    "# taxa de variacao da reta 2\n",
    "m = 2\n",
    "# ponto de intercção da reta no y=4\n",
    "b = 4"
   ]
  },
  {
   "cell_type": "code",
   "execution_count": 9,
   "id": "def49216",
   "metadata": {},
   "outputs": [],
   "source": [
    "# calculando a reta com os valores acima.\n",
    "y = x * m + b"
   ]
  },
  {
   "cell_type": "code",
   "execution_count": 10,
   "id": "a4aa8092",
   "metadata": {},
   "outputs": [
    {
     "data": {
      "image/png": "[encoded data removed]",
      "text/plain": [
       "<Figure size 432x288 with 1 Axes>"
      ]
     },
     "metadata": {
      "needs_background": "light"
     },
     "output_type": "display_data"
    }
   ],
   "source": [
    "plt.plot(x, y)\n",
    "plt.show()"
   ]
  }
 ],
 "metadata": {
  "kernelspec": {
   "display_name": "Python 3 (ipykernel)",
   "language": "python",
   "name": "python3"
  },
  "language_info": {
   "codemirror_mode": {
    "name": "ipython",
    "version": 3
   },
   "file_extension": ".py",
   "mimetype": "text/x-python",
   "name": "python",
   "nbconvert_exporter": "python",
   "pygments_lexer": "ipython3",
   "version": "3.9.7"
  }
 },
 "nbformat": 4,
 "nbformat_minor": 5
}
