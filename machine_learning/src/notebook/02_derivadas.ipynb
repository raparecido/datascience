{
 "cells": [
  {
   "cell_type": "markdown",
   "id": "9ee9a989",
   "metadata": {},
   "source": [
    "# Derivadas\n",
    "\n",
    "<br><br>\n",
    "\n",
    "1. Dada a função: \n",
    "$$\\Large z = 3x^{2} + 5 + x$$\n",
    "<br>\n",
    "$$\\Large z = f(x)$$\n",
    "<br><br>\n",
    "3. Podemos obter a derivada com a seguinte formula:\n",
    "\n",
    "$$\\Large \\frac{dz}{dx} = 3x^{2} + 5 + x$$<br><br>\n",
    "$$\\Large \\frac{dz}{dx} = 6x^{1} + 1$$<br><br>\n",
    "$$\\Large \\frac{dz}{dx} = 6x + 1$$<br><br>"
   ]
  },
  {
   "cell_type": "code",
   "execution_count": 2,
   "id": "be285703",
   "metadata": {},
   "outputs": [],
   "source": [
    "import numpy as np\n",
    "from matplotlib import pyplot as plt"
   ]
  },
  {
   "cell_type": "code",
   "execution_count": 19,
   "id": "3231e7c1",
   "metadata": {},
   "outputs": [
    {
     "name": "stdout",
     "output_type": "stream",
     "text": [
      "x: [0, 1, 2, 3, 4, 5, 6, 7, 8, 9]\n",
      "y: [5, 9, 19, 35, 57, 85, 119, 159, 205, 257]\n",
      "dx: [1, 7, 13, 19, 25, 31, 37, 43, 49, 55]\n"
     ]
    }
   ],
   "source": [
    "x = list(range(0, 10))\n",
    "y = list(map(lambda xi: (3*xi**2)+5+xi, x))\n",
    "dx = list(map(lambda xi: (6*xi)+1, x))\n",
    "print( 'x: {}'.format(x) )\n",
    "print( 'y: {}'.format(y) )\n",
    "print( 'dx: {}'.format(dx) )"
   ]
  },
  {
   "cell_type": "code",
   "execution_count": 21,
   "id": "dbe31547",
   "metadata": {},
   "outputs": [
    {
     "data": {
      "image/png": "[encoded data removed]",
      "text/plain": [
       "<Figure size 432x288 with 1 Axes>"
      ]
     },
     "metadata": {
      "needs_background": "light"
     },
     "output_type": "display_data"
    }
   ],
   "source": [
    "plt.scatter(x, y)\n",
    "plt.scatter(x, dx)\n",
    "plt.show()"
   ]
  },
  {
   "cell_type": "code",
   "execution_count": null,
   "id": "a82478c3",
   "metadata": {},
   "outputs": [],
   "source": []
  }
 ],
 "metadata": {
  "kernelspec": {
   "display_name": "Python 3 (ipykernel)",
   "language": "python",
   "name": "python3"
  },
  "language_info": {
   "codemirror_mode": {
    "name": "ipython",
    "version": 3
   },
   "file_extension": ".py",
   "mimetype": "text/x-python",
   "name": "python",
   "nbconvert_exporter": "python",
   "pygments_lexer": "ipython3",
   "version": "3.9.7"
  }
 },
 "nbformat": 4,
 "nbformat_minor": 5
}
